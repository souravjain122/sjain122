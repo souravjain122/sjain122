{
 "cells": [
  {
   "cell_type": "markdown",
   "metadata": {},
   "source": [
    "# Come up with a Question\n",
    "\n",
    "Do younger users tend to live in bigger cities and do older users live in smaller cities? "
   ]
  },
  {
   "cell_type": "markdown",
   "metadata": {},
   "source": [
    "# Determine the Necessary Data"
   ]
  },
  {
   "cell_type": "code",
   "execution_count": 7,
   "metadata": {},
   "outputs": [
    {
     "name": "stdout",
     "output_type": "stream",
     "text": [
      "Extra Small Sample Mean: 29.0\n",
      "Small Sample Mean: 29.24\n",
      "Medium Sample Mean: 29.04\n",
      "Large Sample Mean: 29.35\n",
      "\n",
      "Population Mean: 29.427860696517413\n"
     ]
    }
   ],
   "source": [
    "# Import modules:\n",
    "import pandas as pd\n",
    "import numpy as np\n",
    "import seaborn as sns\n",
    "import matplotlib.pyplot as plt\n",
    "\n",
    "sns.set()\n",
    "\n",
    "# Import the data:\n",
    "user_data = pd.read_csv(\"user_data.csv\")\n",
    "\n",
    "# Create age variable and find population mean:\n",
    "population_mean = np.mean(user_data[\"age\"])\n",
    "\n",
    "# Select increasingly larger samples:\n",
    "extra_small_sample = user_data[\"age\"][:10]\n",
    "small_sample = user_data[\"age\"][:50]\n",
    "medium_sample = user_data[\"age\"][:100]\n",
    "large_sample = user_data[\"age\"][:200]\n",
    "\n",
    "# Calculate the mean of those samples:\n",
    "extra_small_sample_mean = np.mean(extra_small_sample)\n",
    "small_sample_mean = np.mean(small_sample)\n",
    "medium_sample_mean = np.mean(medium_sample)\n",
    "large_sample_mean = np.mean(large_sample)\n",
    "\n",
    "# Print them all out!\n",
    "print (\"Extra Small Sample Mean: \" + str(extra_small_sample_mean))\n",
    "print (\"Small Sample Mean: \" + str(small_sample_mean))\n",
    "print (\"Medium Sample Mean: \" + str(medium_sample_mean))\n",
    "print (\"Large Sample Mean: \" + str(large_sample_mean))\n",
    "\n",
    "\n",
    "print (\"\\nPopulation Mean: \"+ str(population_mean))\n"
   ]
  },
  {
   "cell_type": "markdown",
   "metadata": {},
   "source": [
    "# Get the Data\n",
    "\n",
    "You can find the dataset at [https://simplemaps.com/data/us-cities](https://simplemaps.com/data/us-cities)."
   ]
  },
  {
   "cell_type": "markdown",
   "metadata": {},
   "source": [
    "# Clean the Data"
   ]
  },
  {
   "cell_type": "code",
   "execution_count": 8,
   "metadata": {},
   "outputs": [
    {
     "data": {
      "text/html": [
       "<div>\n",
       "<style scoped>\n",
       "    .dataframe tbody tr th:only-of-type {\n",
       "        vertical-align: middle;\n",
       "    }\n",
       "\n",
       "    .dataframe tbody tr th {\n",
       "        vertical-align: top;\n",
       "    }\n",
       "\n",
       "    .dataframe thead th {\n",
       "        text-align: right;\n",
       "    }\n",
       "</style>\n",
       "<table border=\"1\" class=\"dataframe\">\n",
       "  <thead>\n",
       "    <tr style=\"text-align: right;\">\n",
       "      <th></th>\n",
       "      <th>city</th>\n",
       "      <th>population_proper</th>\n",
       "    </tr>\n",
       "  </thead>\n",
       "  <tbody>\n",
       "    <tr>\n",
       "      <th>0</th>\n",
       "      <td>Prairie Ridge, WA</td>\n",
       "      <td>NaN</td>\n",
       "    </tr>\n",
       "    <tr>\n",
       "      <th>1</th>\n",
       "      <td>Edison, WA</td>\n",
       "      <td>NaN</td>\n",
       "    </tr>\n",
       "    <tr>\n",
       "      <th>2</th>\n",
       "      <td>Packwood, WA</td>\n",
       "      <td>NaN</td>\n",
       "    </tr>\n",
       "    <tr>\n",
       "      <th>3</th>\n",
       "      <td>Wautauga Beach, WA</td>\n",
       "      <td>NaN</td>\n",
       "    </tr>\n",
       "    <tr>\n",
       "      <th>4</th>\n",
       "      <td>Harper, WA</td>\n",
       "      <td>NaN</td>\n",
       "    </tr>\n",
       "  </tbody>\n",
       "</table>\n",
       "</div>"
      ],
      "text/plain": [
       "                 city  population_proper\n",
       "0   Prairie Ridge, WA                NaN\n",
       "1          Edison, WA                NaN\n",
       "2        Packwood, WA                NaN\n",
       "3  Wautauga Beach, WA                NaN\n",
       "4          Harper, WA                NaN"
      ]
     },
     "execution_count": 8,
     "metadata": {},
     "output_type": "execute_result"
    }
   ],
   "source": [
    "# Import the data:\n",
    "pop_data = pd.read_csv(\"us_cities_small.csv\")\n",
    "\n",
    "# Look at the current pop_data DataFrame:\n",
    "pop_data.head()"
   ]
  },
  {
   "cell_type": "code",
   "execution_count": 9,
   "metadata": {},
   "outputs": [
    {
     "data": {
      "text/html": [
       "<div>\n",
       "<style scoped>\n",
       "    .dataframe tbody tr th:only-of-type {\n",
       "        vertical-align: middle;\n",
       "    }\n",
       "\n",
       "    .dataframe tbody tr th {\n",
       "        vertical-align: top;\n",
       "    }\n",
       "\n",
       "    .dataframe thead th {\n",
       "        text-align: right;\n",
       "    }\n",
       "</style>\n",
       "<table border=\"1\" class=\"dataframe\">\n",
       "  <thead>\n",
       "    <tr style=\"text-align: right;\">\n",
       "      <th></th>\n",
       "      <th>city</th>\n",
       "      <th>education</th>\n",
       "      <th>age</th>\n",
       "    </tr>\n",
       "  </thead>\n",
       "  <tbody>\n",
       "    <tr>\n",
       "      <th>0</th>\n",
       "      <td>Brooklyn, NY</td>\n",
       "      <td>college</td>\n",
       "      <td>31</td>\n",
       "    </tr>\n",
       "    <tr>\n",
       "      <th>1</th>\n",
       "      <td>Brooklyn, NY</td>\n",
       "      <td>graduate degree</td>\n",
       "      <td>31</td>\n",
       "    </tr>\n",
       "    <tr>\n",
       "      <th>2</th>\n",
       "      <td>Brooklyn, NY</td>\n",
       "      <td>graduate degree</td>\n",
       "      <td>32</td>\n",
       "    </tr>\n",
       "    <tr>\n",
       "      <th>3</th>\n",
       "      <td>Brooklyn, NY</td>\n",
       "      <td>college</td>\n",
       "      <td>37</td>\n",
       "    </tr>\n",
       "    <tr>\n",
       "      <th>4</th>\n",
       "      <td>Brooklyn, NY</td>\n",
       "      <td>college</td>\n",
       "      <td>21</td>\n",
       "    </tr>\n",
       "  </tbody>\n",
       "</table>\n",
       "</div>"
      ],
      "text/plain": [
       "           city        education  age\n",
       "0  Brooklyn, NY          college   31\n",
       "1  Brooklyn, NY  graduate degree   31\n",
       "2  Brooklyn, NY  graduate degree   32\n",
       "3  Brooklyn, NY          college   37\n",
       "4  Brooklyn, NY          college   21"
      ]
     },
     "execution_count": 9,
     "metadata": {},
     "output_type": "execute_result"
    }
   ],
   "source": [
    "# Look at the current user_data DataFrame:\n",
    "user_data.head()"
   ]
  },
  {
   "cell_type": "code",
   "execution_count": 10,
   "metadata": {},
   "outputs": [
    {
     "data": {
      "text/html": [
       "<div>\n",
       "<style scoped>\n",
       "    .dataframe tbody tr th:only-of-type {\n",
       "        vertical-align: middle;\n",
       "    }\n",
       "\n",
       "    .dataframe tbody tr th {\n",
       "        vertical-align: top;\n",
       "    }\n",
       "\n",
       "    .dataframe thead th {\n",
       "        text-align: right;\n",
       "    }\n",
       "</style>\n",
       "<table border=\"1\" class=\"dataframe\">\n",
       "  <thead>\n",
       "    <tr style=\"text-align: right;\">\n",
       "      <th></th>\n",
       "      <th>city</th>\n",
       "      <th>education</th>\n",
       "      <th>age</th>\n",
       "      <th>population_proper</th>\n",
       "    </tr>\n",
       "  </thead>\n",
       "  <tbody>\n",
       "    <tr>\n",
       "      <th>0</th>\n",
       "      <td>Brooklyn, NY</td>\n",
       "      <td>college</td>\n",
       "      <td>31</td>\n",
       "      <td>2629150.0</td>\n",
       "    </tr>\n",
       "    <tr>\n",
       "      <th>1</th>\n",
       "      <td>Brooklyn, NY</td>\n",
       "      <td>graduate degree</td>\n",
       "      <td>31</td>\n",
       "      <td>2629150.0</td>\n",
       "    </tr>\n",
       "    <tr>\n",
       "      <th>2</th>\n",
       "      <td>Brooklyn, NY</td>\n",
       "      <td>graduate degree</td>\n",
       "      <td>32</td>\n",
       "      <td>2629150.0</td>\n",
       "    </tr>\n",
       "    <tr>\n",
       "      <th>3</th>\n",
       "      <td>Brooklyn, NY</td>\n",
       "      <td>college</td>\n",
       "      <td>37</td>\n",
       "      <td>2629150.0</td>\n",
       "    </tr>\n",
       "    <tr>\n",
       "      <th>4</th>\n",
       "      <td>Brooklyn, NY</td>\n",
       "      <td>college</td>\n",
       "      <td>21</td>\n",
       "      <td>2629150.0</td>\n",
       "    </tr>\n",
       "    <tr>\n",
       "      <th>5</th>\n",
       "      <td>Austin, TX</td>\n",
       "      <td>college</td>\n",
       "      <td>25</td>\n",
       "      <td>947890.0</td>\n",
       "    </tr>\n",
       "    <tr>\n",
       "      <th>6</th>\n",
       "      <td>Austin, TX</td>\n",
       "      <td>graduate degree</td>\n",
       "      <td>22</td>\n",
       "      <td>947890.0</td>\n",
       "    </tr>\n",
       "    <tr>\n",
       "      <th>7</th>\n",
       "      <td>Oakland, CA</td>\n",
       "      <td>graduate degree</td>\n",
       "      <td>29</td>\n",
       "      <td>420005.0</td>\n",
       "    </tr>\n",
       "    <tr>\n",
       "      <th>8</th>\n",
       "      <td>Pittsburgh, PA</td>\n",
       "      <td>college</td>\n",
       "      <td>29</td>\n",
       "      <td>303625.0</td>\n",
       "    </tr>\n",
       "    <tr>\n",
       "      <th>9</th>\n",
       "      <td>Pittsburgh, PA</td>\n",
       "      <td>college</td>\n",
       "      <td>27</td>\n",
       "      <td>303625.0</td>\n",
       "    </tr>\n",
       "  </tbody>\n",
       "</table>\n",
       "</div>"
      ],
      "text/plain": [
       "             city        education  age  population_proper\n",
       "0    Brooklyn, NY          college   31          2629150.0\n",
       "1    Brooklyn, NY  graduate degree   31          2629150.0\n",
       "2    Brooklyn, NY  graduate degree   32          2629150.0\n",
       "3    Brooklyn, NY          college   37          2629150.0\n",
       "4    Brooklyn, NY          college   21          2629150.0\n",
       "5      Austin, TX          college   25           947890.0\n",
       "6      Austin, TX  graduate degree   22           947890.0\n",
       "7     Oakland, CA  graduate degree   29           420005.0\n",
       "8  Pittsburgh, PA          college   29           303625.0\n",
       "9  Pittsburgh, PA          college   27           303625.0"
      ]
     },
     "execution_count": 10,
     "metadata": {},
     "output_type": "execute_result"
    }
   ],
   "source": [
    "# Merge the two datasets on the city column:\n",
    "\n",
    "new_df = pd.merge(user_data, pop_data)\n",
    "new_df.head(10)"
   ]
  },
  {
   "cell_type": "code",
   "execution_count": 11,
   "metadata": {},
   "outputs": [
    {
     "data": {
      "text/html": [
       "<div>\n",
       "<style scoped>\n",
       "    .dataframe tbody tr th:only-of-type {\n",
       "        vertical-align: middle;\n",
       "    }\n",
       "\n",
       "    .dataframe tbody tr th {\n",
       "        vertical-align: top;\n",
       "    }\n",
       "\n",
       "    .dataframe thead th {\n",
       "        text-align: right;\n",
       "    }\n",
       "</style>\n",
       "<table border=\"1\" class=\"dataframe\">\n",
       "  <thead>\n",
       "    <tr style=\"text-align: right;\">\n",
       "      <th></th>\n",
       "      <th>city</th>\n",
       "      <th>education</th>\n",
       "      <th>age</th>\n",
       "      <th>population_proper</th>\n",
       "      <th>location</th>\n",
       "    </tr>\n",
       "  </thead>\n",
       "  <tbody>\n",
       "    <tr>\n",
       "      <th>0</th>\n",
       "      <td>Brooklyn, NY</td>\n",
       "      <td>college</td>\n",
       "      <td>31</td>\n",
       "      <td>2629150.0</td>\n",
       "      <td>urban</td>\n",
       "    </tr>\n",
       "    <tr>\n",
       "      <th>1</th>\n",
       "      <td>Brooklyn, NY</td>\n",
       "      <td>graduate degree</td>\n",
       "      <td>31</td>\n",
       "      <td>2629150.0</td>\n",
       "      <td>urban</td>\n",
       "    </tr>\n",
       "    <tr>\n",
       "      <th>2</th>\n",
       "      <td>Brooklyn, NY</td>\n",
       "      <td>graduate degree</td>\n",
       "      <td>32</td>\n",
       "      <td>2629150.0</td>\n",
       "      <td>urban</td>\n",
       "    </tr>\n",
       "    <tr>\n",
       "      <th>3</th>\n",
       "      <td>Brooklyn, NY</td>\n",
       "      <td>college</td>\n",
       "      <td>37</td>\n",
       "      <td>2629150.0</td>\n",
       "      <td>urban</td>\n",
       "    </tr>\n",
       "    <tr>\n",
       "      <th>4</th>\n",
       "      <td>Brooklyn, NY</td>\n",
       "      <td>college</td>\n",
       "      <td>21</td>\n",
       "      <td>2629150.0</td>\n",
       "      <td>urban</td>\n",
       "    </tr>\n",
       "    <tr>\n",
       "      <th>5</th>\n",
       "      <td>Austin, TX</td>\n",
       "      <td>college</td>\n",
       "      <td>25</td>\n",
       "      <td>947890.0</td>\n",
       "      <td>urban</td>\n",
       "    </tr>\n",
       "    <tr>\n",
       "      <th>6</th>\n",
       "      <td>Austin, TX</td>\n",
       "      <td>graduate degree</td>\n",
       "      <td>22</td>\n",
       "      <td>947890.0</td>\n",
       "      <td>urban</td>\n",
       "    </tr>\n",
       "    <tr>\n",
       "      <th>7</th>\n",
       "      <td>Oakland, CA</td>\n",
       "      <td>graduate degree</td>\n",
       "      <td>29</td>\n",
       "      <td>420005.0</td>\n",
       "      <td>urban</td>\n",
       "    </tr>\n",
       "    <tr>\n",
       "      <th>8</th>\n",
       "      <td>Pittsburgh, PA</td>\n",
       "      <td>college</td>\n",
       "      <td>29</td>\n",
       "      <td>303625.0</td>\n",
       "      <td>urban</td>\n",
       "    </tr>\n",
       "    <tr>\n",
       "      <th>9</th>\n",
       "      <td>Pittsburgh, PA</td>\n",
       "      <td>college</td>\n",
       "      <td>27</td>\n",
       "      <td>303625.0</td>\n",
       "      <td>urban</td>\n",
       "    </tr>\n",
       "    <tr>\n",
       "      <th>10</th>\n",
       "      <td>Pittsburgh, PA</td>\n",
       "      <td>graduate degree</td>\n",
       "      <td>28</td>\n",
       "      <td>303625.0</td>\n",
       "      <td>urban</td>\n",
       "    </tr>\n",
       "    <tr>\n",
       "      <th>11</th>\n",
       "      <td>Pittsburgh, PA</td>\n",
       "      <td>graduate degree</td>\n",
       "      <td>36</td>\n",
       "      <td>303625.0</td>\n",
       "      <td>urban</td>\n",
       "    </tr>\n",
       "    <tr>\n",
       "      <th>12</th>\n",
       "      <td>Ames, IA</td>\n",
       "      <td>college</td>\n",
       "      <td>31</td>\n",
       "      <td>66191.0</td>\n",
       "      <td>rural</td>\n",
       "    </tr>\n",
       "    <tr>\n",
       "      <th>13</th>\n",
       "      <td>Albany, NY</td>\n",
       "      <td>graduate degree</td>\n",
       "      <td>31</td>\n",
       "      <td>98111.0</td>\n",
       "      <td>rural</td>\n",
       "    </tr>\n",
       "    <tr>\n",
       "      <th>14</th>\n",
       "      <td>Lancaster, PA</td>\n",
       "      <td>college</td>\n",
       "      <td>31</td>\n",
       "      <td>59218.0</td>\n",
       "      <td>rural</td>\n",
       "    </tr>\n",
       "    <tr>\n",
       "      <th>15</th>\n",
       "      <td>Reno, NV</td>\n",
       "      <td>high school</td>\n",
       "      <td>31</td>\n",
       "      <td>245255.0</td>\n",
       "      <td>urban</td>\n",
       "    </tr>\n",
       "    <tr>\n",
       "      <th>16</th>\n",
       "      <td>Reno, NV</td>\n",
       "      <td>college</td>\n",
       "      <td>22</td>\n",
       "      <td>245255.0</td>\n",
       "      <td>urban</td>\n",
       "    </tr>\n",
       "    <tr>\n",
       "      <th>17</th>\n",
       "      <td>Houston, TX</td>\n",
       "      <td>high school</td>\n",
       "      <td>31</td>\n",
       "      <td>2303482.0</td>\n",
       "      <td>urban</td>\n",
       "    </tr>\n",
       "    <tr>\n",
       "      <th>18</th>\n",
       "      <td>Houston, TX</td>\n",
       "      <td>high school</td>\n",
       "      <td>21</td>\n",
       "      <td>2303482.0</td>\n",
       "      <td>urban</td>\n",
       "    </tr>\n",
       "    <tr>\n",
       "      <th>19</th>\n",
       "      <td>Houston, TX</td>\n",
       "      <td>graduate degree</td>\n",
       "      <td>26</td>\n",
       "      <td>2303482.0</td>\n",
       "      <td>urban</td>\n",
       "    </tr>\n",
       "  </tbody>\n",
       "</table>\n",
       "</div>"
      ],
      "text/plain": [
       "              city        education  age  population_proper location\n",
       "0     Brooklyn, NY          college   31          2629150.0    urban\n",
       "1     Brooklyn, NY  graduate degree   31          2629150.0    urban\n",
       "2     Brooklyn, NY  graduate degree   32          2629150.0    urban\n",
       "3     Brooklyn, NY          college   37          2629150.0    urban\n",
       "4     Brooklyn, NY          college   21          2629150.0    urban\n",
       "5       Austin, TX          college   25           947890.0    urban\n",
       "6       Austin, TX  graduate degree   22           947890.0    urban\n",
       "7      Oakland, CA  graduate degree   29           420005.0    urban\n",
       "8   Pittsburgh, PA          college   29           303625.0    urban\n",
       "9   Pittsburgh, PA          college   27           303625.0    urban\n",
       "10  Pittsburgh, PA  graduate degree   28           303625.0    urban\n",
       "11  Pittsburgh, PA  graduate degree   36           303625.0    urban\n",
       "12        Ames, IA          college   31            66191.0    rural\n",
       "13      Albany, NY  graduate degree   31            98111.0    rural\n",
       "14   Lancaster, PA          college   31            59218.0    rural\n",
       "15        Reno, NV      high school   31           245255.0    urban\n",
       "16        Reno, NV          college   22           245255.0    urban\n",
       "17     Houston, TX      high school   31          2303482.0    urban\n",
       "18     Houston, TX      high school   21          2303482.0    urban\n",
       "19     Houston, TX  graduate degree   26          2303482.0    urban"
      ]
     },
     "execution_count": 11,
     "metadata": {},
     "output_type": "execute_result"
    }
   ],
   "source": [
    "# Write a logic statement that determines if a location is \"rural\" or \"urban\":\n",
    "new_df.loc[new_df.population_proper < 100000, \"location\"] = \"rural\"\n",
    "new_df.loc[new_df.population_proper >= 100000, \"location\"] = \"urban\"\n",
    "\n",
    "# look at the new DataFrame:\n",
    "new_df.head(20)"
   ]
  },
  {
   "cell_type": "markdown",
   "metadata": {},
   "source": [
    "# Explore the Data"
   ]
  },
  {
   "cell_type": "code",
   "execution_count": 12,
   "metadata": {},
   "outputs": [
    {
     "name": "stderr",
     "output_type": "stream",
     "text": [
      "C:\\Program Files\\Python39\\lib\\site-packages\\seaborn\\distributions.py:2619: FutureWarning: `distplot` is a deprecated function and will be removed in a future version. Please adapt your code to use either `displot` (a figure-level function with similar flexibility) or `histplot` (an axes-level function for histograms).\n",
      "  warnings.warn(msg, FutureWarning)\n"
     ]
    },
    {
     "data": {
      "image/png": "[encoded data removed]",
      "text/plain": [
       "<Figure size 432x288 with 1 Axes>"
      ]
     },
     "metadata": {},
     "output_type": "display_data"
    }
   ],
   "source": [
    "# Plot a histogram that shows the distribution of ages in the dataset:\n",
    "\n",
    "age = new_df[\"age\"]\n",
    "sns.distplot(age)\n",
    "plt.show()"
   ]
  },
  {
   "cell_type": "code",
   "execution_count": 13,
   "metadata": {},
   "outputs": [
    {
     "data": {
      "text/plain": [
       "location\n",
       "rural    31.142857\n",
       "urban    29.609195\n",
       "Name: age, dtype: float64"
      ]
     },
     "execution_count": 13,
     "metadata": {},
     "output_type": "execute_result"
    }
   ],
   "source": [
    "# Find the mean age of urban and rural users:\n",
    "\n",
    "location_mean_age = new_df.groupby('location').age.mean() # turns it into a series\n",
    "location_mean_age.head()"
   ]
  },
  {
   "cell_type": "code",
   "execution_count": 14,
   "metadata": {},
   "outputs": [
    {
     "data": {
      "image/png": "[encoded data removed]",
      "text/plain": [
       "<Figure size 432x288 with 1 Axes>"
      ]
     },
     "metadata": {},
     "output_type": "display_data"
    }
   ],
   "source": [
    "# Graph the age difference between rural and urban using a barplot:\n",
    "\n",
    "sns.barplot(\n",
    "\tdata=new_df,\n",
    "\tx= \"location\",\n",
    "\ty= \"age\"\n",
    ")\n",
    "\n",
    "plt.show()"
   ]
  },
  {
   "cell_type": "code",
   "execution_count": 15,
   "metadata": {},
   "outputs": [
    {
     "data": {
      "image/png": "[encoded data removed]",
      "text/plain": [
       "<Figure size 432x288 with 1 Axes>"
      ]
     },
     "metadata": {},
     "output_type": "display_data"
    }
   ],
   "source": [
    "# Plot a violinplot, which shows the distribution of age in different locations:\n",
    "\n",
    "sns.violinplot(data=new_df, x=\"location\", y=\"age\")\n",
    "plt.show()"
   ]
  },
  {
   "cell_type": "markdown",
   "metadata": {},
   "source": [
    "# Model the Data"
   ]
  },
  {
   "cell_type": "code",
   "execution_count": 16,
   "metadata": {},
   "outputs": [
    {
     "data": {
      "image/png": "[encoded data removed]",
      "text/plain": [
       "<Figure size 432x288 with 1 Axes>"
      ]
     },
     "metadata": {},
     "output_type": "display_data"
    }
   ],
   "source": [
    "# Graph the population to age as a scatterplot: \n",
    "\n",
    "x = new_df['population_proper']\n",
    "y = new_df['age']\n",
    "\n",
    "plt.scatter(x, y, alpha=0.5)\n",
    "\n",
    "plt.show()"
   ]
  },
  {
   "cell_type": "code",
   "execution_count": 17,
   "metadata": {},
   "outputs": [
    {
     "data": {
      "image/png": "[encoded data removed]",
      "text/plain": [
       "<Figure size 432x288 with 1 Axes>"
      ]
     },
     "metadata": {},
     "output_type": "display_data"
    }
   ],
   "source": [
    "# Use Seaborn to visualize a linear regression: \n",
    "\n",
    "sns.regplot(data=new_df, x=\"population_proper\", y=\"age\")\n",
    "\n",
    "plt.show()"
   ]
  },
  {
   "cell_type": "markdown",
   "metadata": {},
   "source": [
    "# Communication:"
   ]
  },
  {
   "cell_type": "code",
   "execution_count": 18,
   "metadata": {
    "scrolled": true
   },
   "outputs": [
    {
     "data": {
      "image/png": "[encoded data removed]",
      "text/plain": [
       "<Figure size 432x288 with 1 Axes>"
      ]
     },
     "metadata": {},
     "output_type": "display_data"
    }
   ],
   "source": [
    "# Now we need to make our visualizations snazzy! \n",
    "\n",
    "# Linear regression plot:\n",
    "sns.regplot(data=new_df, x=\"population_proper\", y=\"age\")\n",
    "\n",
    "# Change the axes, so they're eaiser to undersatnd:\n",
    "ax = plt.subplot(1, 1, 1)\n",
    "ax.set_xticks([100000, 1000000, 2000000, 4000000, 8000000])\n",
    "ax.set_xticklabels(['100k', '1m', '2m','4m', '8m'])\n",
    "\n",
    "\n",
    "# Change the figure style and palette:\n",
    "sns.set_style(\"white\")\n",
    "sns.set_palette(\"pastel\")\n",
    "sns.despine()\n",
    "\n",
    "\n",
    "# Title the axes and plot: \n",
    "ax.set_xlabel(\"City Population\") \n",
    "ax.set_ylabel(\"User Age\") \n",
    "plt.title(\"Age against Population\")\n",
    "\n",
    "\n",
    "plt.show()"
   ]
  }
 ],
 "metadata": {
  "kernelspec": {
   "display_name": "Python 3 (ipykernel)",
   "language": "python",
   "name": "python3"
  },
  "language_info": {
   "codemirror_mode": {
    "name": "ipython",
    "version": 3
   },
   "file_extension": ".py",
   "mimetype": "text/x-python",
   "name": "python",
   "nbconvert_exporter": "python",
   "pygments_lexer": "ipython3",
   "version": "3.9.8"
  }
 },
 "nbformat": 4,
 "nbformat_minor": 2
}
