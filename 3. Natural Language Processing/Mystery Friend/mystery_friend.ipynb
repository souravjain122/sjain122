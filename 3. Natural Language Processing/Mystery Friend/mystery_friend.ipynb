{
 "cells": [
  {
   "cell_type": "markdown",
   "id": "17c821dc",
   "metadata": {},
   "source": [
    "# Mystery Friend"
   ]
  },
  {
   "cell_type": "markdown",
   "id": "c5e4bd21",
   "metadata": {},
   "source": [
    "## Introduction\n",
    "The goal of this project is to find out the person who sent the anonymous postcard `mystery_postcard`. Based on handwriting list has already been narrowed down to\n",
    "- Emma Goldman\n",
    "- Matthew Henson\n",
    "- TingFang Wu\n",
    "\n",
    "We are going to use their previous postcard's writing manner, **Bag-of-Words Model** and **Naive Bayes Classifier** to find the person who sent the mystery postcard."
   ]
  },
  {
   "cell_type": "markdown",
   "id": "ea712c70",
   "metadata": {},
   "source": [
    "## Import Required Libraries"
   ]
  },
  {
   "cell_type": "code",
   "execution_count": 3,
   "id": "641dce86",
   "metadata": {},
   "outputs": [],
   "source": [
    "# Counter converts text into a Bag-of-Words Dictionary\n",
    "from collections import Counter\n",
    "\n",
    "# CountVectorizer is used for text Vectorization\n",
    "from sklearn.feature_extraction.text import CountVectorizer\n",
    "\n",
    "# Naive Bayes classifiers are a collection of classification algorithms based on Bayes’ Theorem i.e. every pair of features being classified is independent of each other.\n",
    "from sklearn.naive_bayes import MultinomialNB"
   ]
  },
  {
   "cell_type": "markdown",
   "id": "adb0c1b8",
   "metadata": {},
   "source": [
    "## Load Postcards"
   ]
  },
  {
   "cell_type": "markdown",
   "id": "60169e7c",
   "metadata": {},
   "source": [
    "#### Emma Goldman"
   ]
  },
  {
   "cell_type": "code",
   "execution_count": 4,
   "id": "b5b27b7d",
   "metadata": {},
   "outputs": [],
   "source": [
    "goldman = \"\"\n",
    "with open(\"goldman_emma.txt\", \"r\") as f:\n",
    "    goldman = f.read()\n",
    "\n",
    "goldman_docs = goldman.split(\". \")\n",
    "#print(goldman_docs)"
   ]
  },
  {
   "cell_type": "markdown",
   "id": "76b88ba8",
   "metadata": {},
   "source": [
    "#### Matthew Henson"
   ]
  },
  {
   "cell_type": "code",
   "execution_count": 5,
   "id": "b63587ea",
   "metadata": {},
   "outputs": [],
   "source": [
    "with open(\"henson_matthew.txt\", \"r\") as f:\n",
    "    henson = f.read()\n",
    "\n",
    "henson_docs = henson.split(\". \")\n",
    "#print(henson_docs)"
   ]
  },
  {
   "cell_type": "markdown",
   "id": "4223847a",
   "metadata": {},
   "source": [
    "#### TangFang Wu"
   ]
  },
  {
   "cell_type": "code",
   "execution_count": 6,
   "id": "347b1621",
   "metadata": {},
   "outputs": [],
   "source": [
    "with open(\"wu_tingfang.txt\", \"r\") as f:\n",
    "    wu = f.read()\n",
    "\n",
    "wu_docs = wu.split(\". \")\n",
    "#print(wu_docs)"
   ]
  },
  {
   "cell_type": "markdown",
   "id": "d5828de3",
   "metadata": {},
   "source": [
    "#### Mystery Postcard\n",
    "The Anonymous Postcard that was received"
   ]
  },
  {
   "cell_type": "code",
   "execution_count": 7,
   "id": "a65c3f91",
   "metadata": {},
   "outputs": [],
   "source": [
    "mystery_postcard = \"\"\"\n",
    "My friend,\n",
    "From the 10th of July to the 13th, a fierce storm raged, clouds of\n",
    "freeing spray broke over the ship, incasing her in a coat of icy mail,\n",
    "and the tempest forced all of the ice out of the lower end of the\n",
    "channel and beyond as far as the eye could see, but the _Roosevelt_\n",
    "still remained surrounded by ice.\n",
    "Hope to see you soon.\n",
    "\"\"\""
   ]
  },
  {
   "cell_type": "markdown",
   "id": "51305a4d",
   "metadata": {},
   "source": [
    "### Combine list of Friends' Writing sample"
   ]
  },
  {
   "cell_type": "code",
   "execution_count": 8,
   "id": "51212ff4",
   "metadata": {},
   "outputs": [],
   "source": [
    "friends_docs = goldman_docs + henson_docs + wu_docs"
   ]
  },
  {
   "cell_type": "markdown",
   "id": "91a6ff31",
   "metadata": {},
   "source": [
    "### Labels for Friends"
   ]
  },
  {
   "cell_type": "code",
   "execution_count": 9,
   "id": "0082abb0",
   "metadata": {},
   "outputs": [],
   "source": [
    "friends_labels = [\"Goldman's friend\"] * len(goldman_docs) + [\"Henson's friend\"] * len(henson_docs) + [\"WU's friend\"] * len(wu_docs)\n",
    "#print(friends_labels)"
   ]
  },
  {
   "cell_type": "markdown",
   "id": "97ca2a7e",
   "metadata": {},
   "source": [
    "## Explore Postcards"
   ]
  },
  {
   "cell_type": "code",
   "execution_count": 10,
   "id": "aebb9e03",
   "metadata": {},
   "outputs": [
    {
     "name": "stdout",
     "output_type": "stream",
     "text": [
      "Goldman's friend:\n",
      "The history of human growth and development is at the same time the\n",
      "history of the terrible struggle of every new idea heralding the\n",
      "approach of a brighter dawn\n"
     ]
    }
   ],
   "source": [
    "print(\"Goldman's friend:\")\n",
    "print(goldman_docs[0])"
   ]
  },
  {
   "cell_type": "code",
   "execution_count": 11,
   "id": "63fa91ce",
   "metadata": {},
   "outputs": [
    {
     "name": "stdout",
     "output_type": "stream",
     "text": [
      "\n",
      "Henson's friend:\n",
      "When the news of the discovery of the North Pole, by Commander Peary,\n",
      "was first sent to the world, a distinguished citizen of New York City,\n",
      "well versed in the affairs of the Peary Arctic Club, made the statement,\n",
      "that he was sure that Matt Henson had been with Commander Peary on the\n",
      "day of the discovery\n"
     ]
    }
   ],
   "source": [
    "print(\"\\nHenson's friend:\")\n",
    "print(henson_docs[0])"
   ]
  },
  {
   "cell_type": "code",
   "execution_count": 12,
   "id": "f38f5411",
   "metadata": {},
   "outputs": [
    {
     "name": "stdout",
     "output_type": "stream",
     "text": [
      "\n",
      "WU's friend:\n",
      "The Importance of Names\n",
      "\n",
      "  \"What's in a name?  That which we call a rose\n",
      "  By any other name would smell as sweet.\"\n",
      "\n",
      "\n",
      "Notwithstanding these lines, I maintain that the selection of names is\n",
      "important\n"
     ]
    }
   ],
   "source": [
    "print(\"\\nWU's friend:\")\n",
    "print(wu_docs[0])"
   ]
  },
  {
   "cell_type": "markdown",
   "id": "c7bc4075",
   "metadata": {},
   "source": [
    "## BoW Vectorizer"
   ]
  },
  {
   "cell_type": "code",
   "execution_count": 13,
   "id": "14630fbd",
   "metadata": {},
   "outputs": [],
   "source": [
    "# Create bow_vectorizer:\n",
    "bow_vectorizer = CountVectorizer()\n",
    "# Define friends_vectors:\n",
    "friends_vectors = bow_vectorizer.fit_transform(friends_docs)\n",
    "# Define mystery_vector: \n",
    "mystery_vector = bow_vectorizer.transform([mystery_postcard])"
   ]
  },
  {
   "cell_type": "markdown",
   "id": "a42367dc",
   "metadata": {},
   "source": [
    "## Naive Bayes Classifier"
   ]
  },
  {
   "cell_type": "code",
   "execution_count": 14,
   "id": "09f8f2db",
   "metadata": {},
   "outputs": [
    {
     "data": {
      "text/plain": [
       "MultinomialNB()"
      ]
     },
     "execution_count": 14,
     "metadata": {},
     "output_type": "execute_result"
    }
   ],
   "source": [
    "# Define friends_classifier:\n",
    "friends_classifier = MultinomialNB()\n",
    "# Train the classifier:\n",
    "friends_classifier.fit(friends_vectors, friends_labels)"
   ]
  },
  {
   "cell_type": "markdown",
   "id": "c114224c",
   "metadata": {},
   "source": [
    "## Final Predictions"
   ]
  },
  {
   "cell_type": "code",
   "execution_count": 15,
   "id": "8ad793e4",
   "metadata": {},
   "outputs": [],
   "source": [
    "predictions = friends_classifier.predict(mystery_vector)\n",
    "probability = friends_classifier.predict_proba(mystery_vector)\n",
    "mystery_friend = predictions[0] if predictions[0] else \"someone else\""
   ]
  },
  {
   "cell_type": "code",
   "execution_count": 16,
   "id": "8acb10f4",
   "metadata": {},
   "outputs": [
    {
     "name": "stdout",
     "output_type": "stream",
     "text": [
      "\n",
      "The postcard was from Henson's friend!\n",
      "\n",
      "Probabilities of this postcard on belongings are:\n",
      "Goldman: 0.01102\n",
      "Henson: 0.98898\n",
      "WU: 0.0\n"
     ]
    }
   ],
   "source": [
    "# Print the final needed outcomes\n",
    "print(\"\\nThe postcard was from {}!\".format(mystery_friend))\n",
    "print(\"\\nProbabilities of this postcard on belongings are:\")\n",
    "print(\"Goldman: {}\".format(round(probability[0][0], 5)))\n",
    "print(\"Henson: {}\".format(round(probability[0][1], 5)))\n",
    "print(\"WU: {}\".format(round(probability[0][2], 5)))"
   ]
  },
  {
   "cell_type": "markdown",
   "id": "c9d848bd",
   "metadata": {},
   "source": [
    "## Conclusion"
   ]
  },
  {
   "cell_type": "markdown",
   "id": "8e6afbcb",
   "metadata": {},
   "source": [
    "Looking at the probabilities of postcard on belongings our Model predicted that this postcard belongs to the **Matthew Henson**\n",
    "But this was not 100% certain as probabilty of this postcard to belong to:\n",
    "- Emma Goldman: 1.102%\n",
    "- Matthew Henson: 98.898%\n",
    "- TingFang Wu: 0%"
   ]
  }
 ],
 "metadata": {
  "kernelspec": {
   "display_name": "Python 3 (ipykernel)",
   "language": "python",
   "name": "python3"
  },
  "language_info": {
   "codemirror_mode": {
    "name": "ipython",
    "version": 3
   },
   "file_extension": ".py",
   "mimetype": "text/x-python",
   "name": "python",
   "nbconvert_exporter": "python",
   "pygments_lexer": "ipython3",
   "version": "3.9.8"
  }
 },
 "nbformat": 4,
 "nbformat_minor": 5
}
